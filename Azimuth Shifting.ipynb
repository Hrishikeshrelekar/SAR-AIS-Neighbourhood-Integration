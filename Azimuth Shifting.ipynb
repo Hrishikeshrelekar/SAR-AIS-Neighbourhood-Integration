{
 "cells": [
  {
   "cell_type": "markdown",
   "metadata": {},
   "source": [
    "### Importing libraries\n",
    "### Snappy is SNAP-Python Interface which can be installed following below link - https://senbox.atlassian.net/wiki/spaces/SNAP/pages/50855941/Configure+Python+to+use+the+SNAP-Python+snappy+interface"
   ]
  },
  {
   "cell_type": "code",
   "execution_count": 23,
   "metadata": {},
   "outputs": [],
   "source": [
    "import sys\n",
    "sys.path.append('C:/ProgramData/anaconda3/envs/snap2/Lib') \n",
    "import snappy\n",
    "import jpy\n",
    "import numpy as np\n",
    "import pandas as pd\n",
    "from snappy import ProductIO"
   ]
  },
  {
   "cell_type": "code",
   "execution_count": 24,
   "metadata": {},
   "outputs": [],
   "source": [
    "def XY_from_LatLon(Product, latitude, longitude):\n",
    "    geoPosType = jpy.get_type('org.esa.snap.core.datamodel.PixelPos')\n",
    "    geocoding = Product.getSceneGeoCoding()\n",
    "    pixel_pos = geocoding.getPixelPos(snappy.GeoPos(latitude, longitude), geoPosType())\n",
    "    if str(pixel_pos.x)=='nan':\n",
    "        return ('Error')\n",
    "    else:\n",
    "        return int(np.round(pixel_pos.x)), int(np.round(pixel_pos.y))\n",
    "    \n",
    "def LatLon_from_XY(product, x, y):\n",
    "    geoPosType = jpy.get_type('org.esa.snap.core.datamodel.GeoPos')\n",
    "    geocoding = product.getSceneGeoCoding()\n",
    "    geo_pos = geocoding.getGeoPos(snappy.PixelPos(x, y), geoPosType())\n",
    "    if str(geo_pos.lat)=='nan':\n",
    "        return ('Error')\n",
    "    else:\n",
    "        return geo_pos.lat, geo_pos.lon"
   ]
  },
  {
   "cell_type": "code",
   "execution_count": 25,
   "metadata": {},
   "outputs": [],
   "source": [
    "def incindence_angle(x,y,product):\n",
    "    a=product.getBand('incidence_angle_1')\n",
    "    b=np.zeros(1 * 1, np.float64)\n",
    "    a.readPixels(x, y, 1,1, b)\n",
    "    return b[0]"
   ]
  },
  {
   "cell_type": "code",
   "execution_count": 26,
   "metadata": {},
   "outputs": [],
   "source": [
    "def Azimuth_shift(H,theta,u,range_dir,ship_heading,V):\n",
    "    \n",
    "    return float((H*np.tan(np.deg2rad(theta))*u*np.cos(np.deg2rad(ship_heading-range_dir)))/(V))\n",
    "    "
   ]
  },
  {
   "cell_type": "markdown",
   "metadata": {},
   "source": [
    "### Importing Orbit corrected SAR product path "
   ]
  },
  {
   "cell_type": "code",
   "execution_count": 27,
   "metadata": {},
   "outputs": [],
   "source": [
    "path='S1A_IW_GRDH_1SDV_20191127T111722_20191127T111747__Orb_1.dim'\n",
    "interpolated=pd.read_csv(r'AIS_interpolated_data.csv')\n",
    "product = ProductIO.readProduct(path)"
   ]
  },
  {
   "cell_type": "code",
   "execution_count": 28,
   "metadata": {},
   "outputs": [],
   "source": [
    "interpolation1=interpolated.copy()"
   ]
  },
  {
   "cell_type": "code",
   "execution_count": 34,
   "metadata": {},
   "outputs": [],
   "source": [
    "H=693000\n",
    "plt_heading=-11.959\n",
    "range_dire=90-plt_heading\n",
    "V=7590\n",
    "for i in range(len(interpolated)):\n",
    "    ### Ignore 15th data point as it lies outside area covered by SAR product\n",
    "    if i!=15:\n",
    "        lat,long=interpolated.iloc[i,[1,2]].values\n",
    "        x,y=XY_from_LatLon(product, lat, long)\n",
    "        theta=incindence_angle(x,y,product)\n",
    "        y_offset=Azimuth_shift(H,theta,interpolated.iloc[i,4],range_dire,interpolated.iloc[i,5],V)/10\n",
    "        if LatLon_from_XY(product, x, y+y_offset)=='Error':\n",
    "            interpolation1.drop(i)\n",
    "        else:\n",
    "            lat_new,long_new=LatLon_from_XY(product, x, y+y_offset)\n",
    "            interpolation1.iloc[i,1]=lat_new\n",
    "            interpolation1.iloc[i,2]=long_new"
   ]
  },
  {
   "cell_type": "markdown",
   "metadata": {},
   "source": [
    "### Storing azimuth corrected AIS data into csv file"
   ]
  },
  {
   "cell_type": "code",
   "execution_count": 35,
   "metadata": {},
   "outputs": [],
   "source": [
    "interpolation1.to_csv('Azimuth_shifted_points.csv',index=False)"
   ]
  },
  {
   "cell_type": "code",
   "execution_count": null,
   "metadata": {},
   "outputs": [],
   "source": []
  }
 ],
 "metadata": {
  "kernelspec": {
   "display_name": "Python 3",
   "language": "python",
   "name": "python3"
  },
  "language_info": {
   "codemirror_mode": {
    "name": "ipython",
    "version": 3
   },
   "file_extension": ".py",
   "mimetype": "text/x-python",
   "name": "python",
   "nbconvert_exporter": "python",
   "pygments_lexer": "ipython3",
   "version": "3.6.10"
  }
 },
 "nbformat": 4,
 "nbformat_minor": 4
}
