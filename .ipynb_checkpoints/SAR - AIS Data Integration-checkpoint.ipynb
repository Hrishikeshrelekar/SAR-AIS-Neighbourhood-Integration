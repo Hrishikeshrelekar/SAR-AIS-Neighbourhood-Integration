{
 "cells": [
  {
   "cell_type": "markdown",
   "metadata": {},
   "source": [
    "### Importing libraries"
   ]
  },
  {
   "cell_type": "code",
   "execution_count": 1,
   "metadata": {},
   "outputs": [],
   "source": [
    "import numpy as np\n",
    "import pandas as pd\n",
    "import math"
   ]
  },
  {
   "cell_type": "markdown",
   "metadata": {},
   "source": [
    "### Importing data"
   ]
  },
  {
   "cell_type": "code",
   "execution_count": 2,
   "metadata": {},
   "outputs": [],
   "source": [
    "data1=pd.read_csv(r'interpolation_of_ships_trial_3.csv')\n",
    "data2=pd.read_csv(r'sumo results ROI.csv')"
   ]
  },
  {
   "cell_type": "code",
   "execution_count": 3,
   "metadata": {},
   "outputs": [],
   "source": [
    "def removing_false_alarms(data):\n",
    "    h=[]\n",
    "    for i in range(len(data)):\n",
    "        if type(data['vds_target__boat__false_alarm_cause'][i])==str:\n",
    "            h.append(i)\n",
    "    \n",
    "    data1=data.drop(h,axis=0).reset_index()\n",
    "    \n",
    "    return data1\n",
    "    "
   ]
  },
  {
   "cell_type": "code",
   "execution_count": 4,
   "metadata": {},
   "outputs": [],
   "source": [
    "data2 = removing_false_alarms(data2)\n",
    "x = data1\n",
    "y = data2"
   ]
  },
  {
   "cell_type": "code",
   "execution_count": 5,
   "metadata": {},
   "outputs": [],
   "source": [
    "def haversine(lat1, lon1, lat2, lon2): \n",
    "      \n",
    "    # distance between latitudesand longitudes \n",
    "    dLat = (lat2 - lat1) * math.pi / 180.0\n",
    "    dLon = (lon2 - lon1) * math.pi / 180.0\n",
    "  \n",
    "    # convert to radians \n",
    "    lat1 = (lat1) * math.pi / 180.0\n",
    "    lat2 = (lat2) * math.pi / 180.0\n",
    "  \n",
    "    # apply haversine formulae \n",
    "    a = (pow(math.sin(dLat / 2), 2) + \n",
    "         pow(math.sin(dLon / 2), 2) * \n",
    "             math.cos(lat1) * math.cos(lat2)); \n",
    "    rad = 6371000\n",
    "    c = 2 * math.asin(math.sqrt(a)) \n",
    "    return rad * c \n",
    "\n",
    "def Diff(li1, li2): \n",
    "    # Calculating difference between 2 sets\n",
    "    return (list(set(li1) - set(li2)))"
   ]
  },
  {
   "cell_type": "code",
   "execution_count": 9,
   "metadata": {},
   "outputs": [],
   "source": [
    "class sar_ais_neighbourhood:\n",
    "    \n",
    "    def __init__(self):\n",
    "        print('SAR - AIS Neighbourhood class is initiated.')\n",
    "    \n",
    "    def find_neighbours(self, x, y, len_threshold, len_perc_threshold, dis_threshold):\n",
    "        '''\n",
    "        x - contains AIS data\n",
    "        y - contains SUMO data\n",
    "        Note that schema of both dataframes should be set as expected.\n",
    "        \n",
    "        len_threshold (in meters) - Length error between SAR data and AIS data that is allowed to match vessels\n",
    "        len_perc_threshold - Percentage of length error between SAR data and AIS data that is allowed to match vessels\n",
    "        dis_threshold (in meters) - Distance error that is allowed between SAR ship location and AIS ship location to match vessels\n",
    "        '''\n",
    "        nei1=[]\n",
    "        nei2=[]\n",
    "        e=[]\n",
    "        f=[]\n",
    "        nei=[]\n",
    "        d=[]\n",
    "\n",
    "        for k in range(10):\n",
    "            n1=Diff(range(len(x)),nei1)\n",
    "            n2=Diff(range(len(y)),nei2)\n",
    "            dis=np.array([])\n",
    "            idx=[]\n",
    "            o=0\n",
    "            for u in n1:\n",
    "                lat1 = x['LATITUDE'][u]\n",
    "                lon1 = x['LONGITUDE'][u]\n",
    "                a=np.array([])  \n",
    "                for j in n2:\n",
    "                    lat2 = y['vds_target__boat__lat'][j]\n",
    "                    lon2 = y['vds_target__boat__lon'][j]\n",
    "                    a=np.append(a,haversine(lat1, lon1,lat2, lon2)) \n",
    "                    idx.insert(o,(u,j))\n",
    "                    o=o+1\n",
    "                dis=np.append(dis,a)\n",
    "\n",
    "            z=[x for _,x in sorted(zip(dis,idx))]\n",
    "            q=sorted(dis)\n",
    "\n",
    "            for i in range(len(z)):\n",
    "                if (((abs(x['LENGTH'][z[i][0]]-y['vds_target__boat__length'][z[i][1]])<len_threshold)|\n",
    "                    (abs(x['LENGTH'][z[i][0]]-y['vds_target__boat__length'][z[i][1]])/x['LENGTH'][z[i][0]]<len_perc_threshold))&(q[i]<dis_threshold)):\n",
    "                    if ((z[i][0] not in e)&(z[i][1] not in f)):\n",
    "                        e.append(z[i][0])\n",
    "                        f.append(z[i][1])\n",
    "                        nei1.append(z[i][0])\n",
    "                        nei2.append(z[i][1])\n",
    "                        nei.append((z[i][0],z[i][1]))\n",
    "                        d.append(q[i])\n",
    "                        \n",
    "        return nei, d\n"
   ]
  },
  {
   "cell_type": "code",
   "execution_count": null,
   "metadata": {},
   "outputs": [
    {
     "name": "stdout",
     "output_type": "stream",
     "text": [
      "SAR - AIS Neighbourhood class is initiated.\n"
     ]
    },
    {
     "name": "stderr",
     "output_type": "stream",
     "text": [
      "C:\\ProgramData\\anaconda3\\envs\\CNN\\lib\\site-packages\\ipykernel_launcher.py:46: RuntimeWarning: divide by zero encountered in longlong_scalars\n"
     ]
    }
   ],
   "source": [
    "integrated=pd.DataFrame()\n",
    "neighbourhood_model = sar_ais_neighbourhood()\n",
    "\n",
    "nei, d = neighbourhood_model.find_neighbours(x,y,30,0.2,1000)"
   ]
  },
  {
   "cell_type": "markdown",
   "metadata": {},
   "source": [
    "### Storing integrated data into dataframe"
   ]
  },
  {
   "cell_type": "code",
   "execution_count": 8,
   "metadata": {},
   "outputs": [
    {
     "ename": "NameError",
     "evalue": "name 'd' is not defined",
     "output_type": "error",
     "traceback": [
      "\u001b[1;31m---------------------------------------------------------------------------\u001b[0m",
      "\u001b[1;31mNameError\u001b[0m                                 Traceback (most recent call last)",
      "\u001b[1;32m<ipython-input-8-fe64d9ecc352>\u001b[0m in \u001b[0;36m<module>\u001b[1;34m\u001b[0m\n\u001b[0;32m      3\u001b[0m     \u001b[0mb\u001b[0m\u001b[1;33m=\u001b[0m\u001b[0mnei\u001b[0m\u001b[1;33m[\u001b[0m\u001b[0mi\u001b[0m\u001b[1;33m]\u001b[0m\u001b[1;33m[\u001b[0m\u001b[1;36m1\u001b[0m\u001b[1;33m]\u001b[0m\u001b[1;33m\u001b[0m\u001b[1;33m\u001b[0m\u001b[0m\n\u001b[0;32m      4\u001b[0m     m=pd.DataFrame([[x['MMSI'][a],y['vds_target__boat__lat'][b],y['vds_target__boat__lon'][b],x['LATITUDE'][a],x['LONGITUDE'][a],\n\u001b[1;32m----> 5\u001b[1;33m                     \u001b[0md\u001b[0m\u001b[1;33m[\u001b[0m\u001b[0mi\u001b[0m\u001b[1;33m]\u001b[0m\u001b[1;33m,\u001b[0m\u001b[0my\u001b[0m\u001b[1;33m[\u001b[0m\u001b[1;34m'vds_target__boat__xpixel'\u001b[0m\u001b[1;33m]\u001b[0m\u001b[1;33m[\u001b[0m\u001b[0mb\u001b[0m\u001b[1;33m]\u001b[0m\u001b[1;33m,\u001b[0m\u001b[0my\u001b[0m\u001b[1;33m[\u001b[0m\u001b[1;34m'vds_target__boat__ypixel'\u001b[0m\u001b[1;33m]\u001b[0m\u001b[1;33m[\u001b[0m\u001b[0mb\u001b[0m\u001b[1;33m]\u001b[0m\u001b[1;33m,\u001b[0m\u001b[0my\u001b[0m\u001b[1;33m[\u001b[0m\u001b[1;34m'vds_target__boat__length'\u001b[0m\u001b[1;33m]\u001b[0m\u001b[1;33m[\u001b[0m\u001b[0mb\u001b[0m\u001b[1;33m]\u001b[0m\u001b[1;33m,\u001b[0m\u001b[1;33m\u001b[0m\u001b[1;33m\u001b[0m\u001b[0m\n\u001b[0m\u001b[0;32m      6\u001b[0m                      \u001b[0mx\u001b[0m\u001b[1;33m[\u001b[0m\u001b[1;34m'LENGTH'\u001b[0m\u001b[1;33m]\u001b[0m\u001b[1;33m[\u001b[0m\u001b[0ma\u001b[0m\u001b[1;33m]\u001b[0m\u001b[1;33m,\u001b[0m\u001b[0my\u001b[0m\u001b[1;33m[\u001b[0m\u001b[1;34m'vds_target__boat__width'\u001b[0m\u001b[1;33m]\u001b[0m\u001b[1;33m[\u001b[0m\u001b[0mb\u001b[0m\u001b[1;33m]\u001b[0m\u001b[1;33m,\u001b[0m\u001b[0mx\u001b[0m\u001b[1;33m[\u001b[0m\u001b[1;34m'BREADTH'\u001b[0m\u001b[1;33m]\u001b[0m\u001b[1;33m[\u001b[0m\u001b[0ma\u001b[0m\u001b[1;33m]\u001b[0m\u001b[1;33m,\u001b[0m\u001b[0my\u001b[0m\u001b[1;33m[\u001b[0m\u001b[1;34m'vds_target__boat__inc_ang'\u001b[0m\u001b[1;33m]\u001b[0m\u001b[1;33m[\u001b[0m\u001b[0mb\u001b[0m\u001b[1;33m]\u001b[0m\u001b[1;33m,\u001b[0m\u001b[0mx\u001b[0m\u001b[1;33m[\u001b[0m\u001b[1;34m'NAME'\u001b[0m\u001b[1;33m]\u001b[0m\u001b[1;33m[\u001b[0m\u001b[0ma\u001b[0m\u001b[1;33m]\u001b[0m\u001b[1;33m,\u001b[0m\u001b[0mx\u001b[0m\u001b[1;33m[\u001b[0m\u001b[1;34m'AISTYPE'\u001b[0m\u001b[1;33m]\u001b[0m\u001b[1;33m[\u001b[0m\u001b[0ma\u001b[0m\u001b[1;33m]\u001b[0m\u001b[1;33m,\u001b[0m\u001b[1;33m\u001b[0m\u001b[1;33m\u001b[0m\u001b[0m\n\u001b[0;32m      7\u001b[0m                    \u001b[0my\u001b[0m\u001b[1;33m[\u001b[0m\u001b[1;34m'vds_target__boat__nr_pixels'\u001b[0m\u001b[1;33m]\u001b[0m\u001b[1;33m[\u001b[0m\u001b[0mb\u001b[0m\u001b[1;33m]\u001b[0m\u001b[1;33m,\u001b[0m \u001b[0mfloat\u001b[0m\u001b[1;33m(\u001b[0m\u001b[0my\u001b[0m\u001b[1;33m[\u001b[0m\u001b[1;34m'vds_target__boat__max_value'\u001b[0m\u001b[1;33m]\u001b[0m\u001b[1;33m[\u001b[0m\u001b[0mb\u001b[0m\u001b[1;33m]\u001b[0m\u001b[1;33m.\u001b[0m\u001b[0msplit\u001b[0m\u001b[1;33m(\u001b[0m\u001b[1;34m','\u001b[0m\u001b[1;33m)\u001b[0m\u001b[1;33m[\u001b[0m\u001b[1;36m2\u001b[0m\u001b[1;33m]\u001b[0m\u001b[1;33m)\u001b[0m\u001b[1;33m,\u001b[0m\u001b[1;33m\u001b[0m\u001b[1;33m\u001b[0m\u001b[0m\n",
      "\u001b[1;31mNameError\u001b[0m: name 'd' is not defined"
     ]
    }
   ],
   "source": [
    "for i in range(len(nei)):\n",
    "    a=nei[i][0]\n",
    "    b=nei[i][1]\n",
    "    m=pd.DataFrame([[x['MMSI'][a],y['vds_target__boat__lat'][b],y['vds_target__boat__lon'][b],x['LATITUDE'][a],x['LONGITUDE'][a],\n",
    "                    d[i],y['vds_target__boat__xpixel'][b],y['vds_target__boat__ypixel'][b],y['vds_target__boat__length'][b],\n",
    "                     x['LENGTH'][a],y['vds_target__boat__width'][b],x['BREADTH'][a],y['vds_target__boat__inc_ang'][b],x['NAME'][a],x['AISTYPE'][a],\n",
    "                   y['vds_target__boat__nr_pixels'][b], float(y['vds_target__boat__max_value'][b].split(',')[2]),\n",
    "                   float(y['vds_target__boat__significance'][b].split(',')[2])]],\n",
    "                   columns=['MMSI','Detected_lat','Detected_lon','AIS_lat','AIS_lon','Distance_error','xpixel','ypixel',\n",
    "                                               'LENGTH_detected','LENGTH','BREADTH_detected','BREADTH','incidence_angle','NAME','AISTYPE','Total Pixel','Max_value','Significance'])\n",
    "    \n",
    "    integrated=pd.concat([integrated,m],axis=0,ignore_index=True,sort=False)\n",
    "    "
   ]
  },
  {
   "cell_type": "markdown",
   "metadata": {},
   "source": [
    "#### SUMO detected latitudes and longitudes are provided with AIS detected latitudes and longitudes. Length errors and distance errors are given for comparison of matched ships."
   ]
  },
  {
   "cell_type": "code",
   "execution_count": null,
   "metadata": {},
   "outputs": [],
   "source": [
    "integrated"
   ]
  },
  {
   "cell_type": "code",
   "execution_count": 21,
   "metadata": {},
   "outputs": [],
   "source": [
    "integrated.to_csv('Integrated_23Oct2018.csv',index=False)"
   ]
  },
  {
   "cell_type": "code",
   "execution_count": null,
   "metadata": {},
   "outputs": [],
   "source": []
  },
  {
   "cell_type": "code",
   "execution_count": null,
   "metadata": {},
   "outputs": [],
   "source": []
  },
  {
   "cell_type": "code",
   "execution_count": null,
   "metadata": {},
   "outputs": [],
   "source": []
  },
  {
   "cell_type": "code",
   "execution_count": null,
   "metadata": {},
   "outputs": [],
   "source": []
  }
 ],
 "metadata": {
  "kernelspec": {
   "display_name": "Python 3",
   "language": "python",
   "name": "python3"
  },
  "language_info": {
   "codemirror_mode": {
    "name": "ipython",
    "version": 3
   },
   "file_extension": ".py",
   "mimetype": "text/x-python",
   "name": "python",
   "nbconvert_exporter": "python",
   "pygments_lexer": "ipython3",
   "version": "3.6.10"
  }
 },
 "nbformat": 4,
 "nbformat_minor": 2
}
